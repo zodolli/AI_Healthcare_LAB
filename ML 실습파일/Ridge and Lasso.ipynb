{
 "cells": [
  {
   "cell_type": "markdown",
   "id": "fd663f9d",
   "metadata": {},
   "source": [
    "# Linear Regression (Ridge, Lasso)"
   ]
  },
  {
   "cell_type": "code",
   "execution_count": 1,
   "id": "458d3653",
   "metadata": {},
   "outputs": [],
   "source": [
    "import numpy as np\n",
    "import pandas as pd\n",
    "import matplotlib.pyplot as plt"
   ]
  },
  {
   "cell_type": "code",
   "execution_count": 2,
   "id": "34059d78",
   "metadata": {},
   "outputs": [],
   "source": [
    "import warnings\n",
    "warnings.filterwarnings(action='ignore')"
   ]
  },
  {
   "cell_type": "markdown",
   "id": "4a6de51e",
   "metadata": {},
   "source": [
    "# 1. Regularized Linear Regression on Boston Housing Price Data\n",
    "(1) Data Preparation\n"
   ]
  },
  {
   "cell_type": "code",
   "execution_count": 3,
   "id": "7bbc2ac6",
   "metadata": {},
   "outputs": [],
   "source": [
    "from sklearn.datasets import load_boston\n",
    "from sklearn.model_selection import train_test_split\n",
    "\n",
    "boston = load_boston()\n",
    "X, y = boston.data, boston.target\n",
    "X_train, X_test, y_train, y_test = train_test_split(X, y, random_state=42)"
   ]
  },
  {
   "cell_type": "markdown",
   "id": "138e91f1",
   "metadata": {},
   "source": [
    "# (2) Fitting Regression Models\n",
    "    (2)-1 OLS"
   ]
  },
  {
   "cell_type": "code",
   "execution_count": 4,
   "id": "3704a44f",
   "metadata": {},
   "outputs": [
    {
     "data": {
      "text/plain": [
       "LinearRegression()"
      ]
     },
     "execution_count": 4,
     "metadata": {},
     "output_type": "execute_result"
    }
   ],
   "source": [
    "from sklearn.linear_model import LinearRegression\n",
    "reg = LinearRegression()\n",
    "reg.fit(X_train, y_train)"
   ]
  },
  {
   "cell_type": "code",
   "execution_count": 5,
   "id": "a970eb8e",
   "metadata": {},
   "outputs": [
    {
     "name": "stdout",
     "output_type": "stream",
     "text": [
      "train RMSE : 4.7265\n",
      "train MAE : 3.3663\n",
      "train R-square : 0.7481\n",
      "test RMSE : 4.7009\n",
      "test MAE : 3.0609\n",
      "test R-square : 0.6844\n"
     ]
    }
   ],
   "source": [
    "from sklearn.metrics import mean_squared_error, mean_absolute_error, r2_score\n",
    "\n",
    "y_train_hat = reg.predict(X_train)\n",
    "y_test_hat = reg.predict(X_test)\n",
    "\n",
    "print('train RMSE : %.4f' % mean_squared_error(y_train, y_train_hat)**0.5)\n",
    "print('train MAE : %.4f' % mean_absolute_error(y_train, y_train_hat))\n",
    "print('train R-square : %.4f' % r2_score(y_train, y_train_hat))\n",
    "\n",
    "print('test RMSE : %.4f' % mean_squared_error(y_test, y_test_hat)**0.5)\n",
    "print('test MAE : %.4f' % mean_absolute_error(y_test, y_test_hat))\n",
    "print('test R-square : %.4f' % r2_score(y_test, y_test_hat))"
   ]
  },
  {
   "cell_type": "code",
   "execution_count": null,
   "id": "aa4e128c",
   "metadata": {},
   "outputs": [],
   "source": []
  }
 ],
 "metadata": {
  "kernelspec": {
   "display_name": "Python 3 (ipykernel)",
   "language": "python",
   "name": "python3"
  },
  "language_info": {
   "codemirror_mode": {
    "name": "ipython",
    "version": 3
   },
   "file_extension": ".py",
   "mimetype": "text/x-python",
   "name": "python",
   "nbconvert_exporter": "python",
   "pygments_lexer": "ipython3",
   "version": "3.9.12"
  }
 },
 "nbformat": 4,
 "nbformat_minor": 5
}
